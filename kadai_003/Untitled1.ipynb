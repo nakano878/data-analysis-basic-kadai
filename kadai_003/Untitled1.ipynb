{
  "nbformat": 4,
  "nbformat_minor": 0,
  "metadata": {
    "colab": {
      "provenance": []
    },
    "kernelspec": {
      "name": "python3",
      "display_name": "Python 3"
    },
    "language_info": {
      "name": "python"
    }
  },
  "cells": [
    {
      "cell_type": "code",
      "execution_count": 1,
      "metadata": {
        "colab": {
          "base_uri": "https://localhost:8080/"
        },
        "id": "f9jorKrWMxuH",
        "outputId": "8f24e4bf-582c-45bc-b0a6-b0d9b78f050a"
      },
      "outputs": [
        {
          "output_type": "stream",
          "name": "stdout",
          "text": [
            "[[ 4  5  6  7]\n",
            " [12 17 22 27]\n",
            " [20 29 38 47]]\n",
            "47\n"
          ]
        }
      ],
      "source": [
        "import numpy as np\n",
        "A = np.array([[0, 1],[2, 3],[4,5]])\n",
        "B = np.array([[0, 1, 2, 3,],[4, 5, 6, 7]])\n",
        "C = np.dot(A, B)\n",
        "print(C)\n",
        "print(C.max())\n"
      ]
    }
  ]
}